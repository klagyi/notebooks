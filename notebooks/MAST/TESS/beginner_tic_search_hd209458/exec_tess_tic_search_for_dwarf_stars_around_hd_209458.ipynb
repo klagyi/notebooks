{
 "cells": [
  {
   "cell_type": "markdown",
   "metadata": {},
   "source": [
    "## Query TESS Input Catalog for Dwarf Stars around the star HD 209458\n",
    "This tutorial demonstrates how to do a cone search around the location of a known star (HD 209458) in the TESS Input Catalog and then filter those results to only dwarf stars.  \n",
    "\n",
    "This tutorial uses Python and the astroquery module (astroquery-0.3.9.dev0). At the time of writing this requires installing the \"bleeding edge\" version of astroquery with pip. Information on how to install astroquery for MAST can be found on the [Astroquery site](http://astroquery.readthedocs.io/en/latest/mast/mast.html#). \n",
    "This tutorial demonstrates the following skills.\n",
    "\n",
    "* Astroquery Catalog Cone Search\n",
    "* Filtering the Resulting Table\n",
    "* Finding the TIC ID that is closest to the requested star"
   ]
  },
  {
   "cell_type": "markdown",
   "metadata": {},
   "source": [
    "# Setup\n",
    "We start by importing the required python modules and setting variables with the star name and radius of our query in degrees."
   ]
  },
  {
   "cell_type": "code",
   "execution_count": 1,
   "metadata": {},
   "outputs": [],
   "source": [
    "from astroquery.mast import Catalogs\n",
    "\n",
    "star_name = \"HD 209458\"\n",
    "radius_deg = .2"
   ]
  },
  {
   "cell_type": "markdown",
   "metadata": {},
   "source": [
    "# Astroquery Catalog Cone Search\n",
    "Use the Catalogs query_object to do a cone search on the star and return the rows form the TIC catalog.  The numbers of returned rows are printed below."
   ]
  },
  {
   "cell_type": "code",
   "execution_count": 2,
   "metadata": {},
   "outputs": [
    {
     "name": "stdout",
     "output_type": "stream",
     "text": [
      "Number of Stars in the TIC within 0.200000 deg of HD 209458: 595\n"
     ]
    }
   ],
   "source": [
    "catalogTIC = Catalogs.query_object(star_name, radius=radius_deg, catalog=\"TIC\")\n",
    "\n",
    "print(\"Number of Stars in the TIC within %f deg of %s: %u\" % (radius_deg, star_name,len(catalogTIC)))\n"
   ]
  },
  {
   "cell_type": "markdown",
   "metadata": {},
   "source": [
    "# Select Dwarf Stars\n",
    "Make a cut on the resulting table for those with a luminosity class of 'DWARF'.  We will do this by creating a python list of True/False indicating when the luminosity class column is set to DWARF. We then print out the number of dwarf stars in our table and print out the first 12 rows of the table."
   ]
  },
  {
   "cell_type": "code",
   "execution_count": 3,
   "metadata": {},
   "outputs": [
    {
     "name": "stdout",
     "output_type": "stream",
     "text": [
      "Number of Dwarf stars within 0.200000 deg of HD 209458: 476\n"
     ]
    },
    {
     "data": {
      "text/html": [
       "<i>Table masked=True length=12</i>\n",
       "<table id=\"table140318487500784\" class=\"table-striped table-bordered table-condensed\">\n",
       "<thead><tr><th>ID</th><th>ra</th><th>dec</th><th>pmRA</th><th>pmDEC</th><th>Tmag</th><th>objType</th><th>typeSrc</th><th>version</th><th>HIP</th><th>TYC</th><th>UCAC</th><th>TWOMASS</th><th>SDSS</th><th>ALLWISE</th><th>GAIA</th><th>APASS</th><th>KIC</th><th>POSflag</th><th>e_pmRA</th><th>e_pmDEC</th><th>PMflag</th><th>plx</th><th>e_plx</th><th>PARflag</th><th>gallong</th><th>gallat</th><th>eclong</th><th>eclat</th><th>Bmag</th><th>e_Bmag</th><th>Vmag</th><th>e_Vmag</th><th>umag</th><th>e_umag</th><th>gmag</th><th>e_gmag</th><th>rmag</th><th>e_rmag</th><th>imag</th><th>e_imag</th><th>zmag</th><th>e_zmag</th><th>Jmag</th><th>e_Jmag</th><th>Hmag</th><th>e_Hmag</th><th>Kmag</th><th>e_Kmag</th><th>TWOMflag</th><th>prox</th><th>w1mag</th><th>e_w1mag</th><th>w2mag</th><th>e_w2mag</th><th>w3mag</th><th>e_w3mag</th><th>w4mag</th><th>e_w4mag</th><th>GAIAmag</th><th>e_GAIAmag</th><th>e_Tmag</th><th>TESSflag</th><th>SPFlag</th><th>Teff</th><th>e_Teff</th><th>logg</th><th>e_logg</th><th>MH</th><th>e_MH</th><th>rad</th><th>e_rad</th><th>mass</th><th>e_mass</th><th>rho</th><th>e_rho</th><th>lumclass</th><th>lum</th><th>e_lum</th><th>d</th><th>e_d</th><th>ebv</th><th>e_ebv</th><th>numcont</th><th>contratio</th><th>disposition</th><th>duplicate_id</th><th>priority</th><th>dstArcSec</th></tr></thead>\n",
       "<thead><tr><th>str11</th><th>float64</th><th>float64</th><th>float64</th><th>float64</th><th>float64</th><th>str8</th><th>str5</th><th>str8</th><th>str6</th><th>str12</th><th>str10</th><th>str16</th><th>str19</th><th>str19</th><th>str19</th><th>str8</th><th>str1</th><th>str8</th><th>float64</th><th>float64</th><th>str6</th><th>float64</th><th>float64</th><th>str4</th><th>float64</th><th>float64</th><th>float64</th><th>float64</th><th>float64</th><th>float64</th><th>float64</th><th>float64</th><th>float64</th><th>float64</th><th>float64</th><th>float64</th><th>float64</th><th>float64</th><th>float64</th><th>float64</th><th>float64</th><th>float64</th><th>float64</th><th>float64</th><th>float64</th><th>float64</th><th>float64</th><th>float64</th><th>str19</th><th>float64</th><th>float64</th><th>float64</th><th>float64</th><th>float64</th><th>float64</th><th>float64</th><th>float64</th><th>float64</th><th>float64</th><th>float64</th><th>float64</th><th>str5</th><th>str5</th><th>float64</th><th>float64</th><th>float64</th><th>float64</th><th>float64</th><th>float64</th><th>float64</th><th>float64</th><th>float64</th><th>float64</th><th>float64</th><th>float64</th><th>str5</th><th>float64</th><th>float64</th><th>float64</th><th>float64</th><th>float64</th><th>float64</th><th>int64</th><th>float64</th><th>str1</th><th>str1</th><th>float64</th><th>float64</th></tr></thead>\n",
       "<tr><td>420814525</td><td>330.794908</td><td>18.884363</td><td>29.7249</td><td>-18.0253</td><td>7.105</td><td>STAR</td><td>2mass</td><td>20180610</td><td>108859</td><td>1688-01821-1</td><td>545-143615</td><td>22031077+1853036</td><td>--</td><td>J220310.79+185303.3</td><td>1779546753373081600</td><td>44767131</td><td>--</td><td>tmgaia</td><td>0.0799488</td><td>0.0819606</td><td>tgas</td><td>20.4655</td><td>0.227021</td><td>tgas</td><td>76.753371</td><td>-28.526888</td><td>340.354153</td><td>28.724246</td><td>8.168</td><td>--</td><td>7.65</td><td>0.03</td><td>--</td><td>--</td><td>--</td><td>--</td><td>--</td><td>--</td><td>--</td><td>--</td><td>--</td><td>--</td><td>6.591</td><td>0.02</td><td>6.366</td><td>0.038</td><td>6.308</td><td>0.026</td><td>AAA-111-111-000-0-0</td><td>33.0</td><td>6.308</td><td>0.091</td><td>6.191</td><td>0.027</td><td>6.32</td><td>0.016</td><td>6.265</td><td>0.053</td><td>7.48352</td><td>0.000345996</td><td>0.017</td><td>gaiaj</td><td>kplnt</td><td>6052.0</td><td>25.0</td><td>0.028</td><td>--</td><td>0.05</td><td>0.1</td><td>1.12</td><td>--</td><td>1.1</td><td>--</td><td>0.782958</td><td>--</td><td>DWARF</td><td>--</td><td>--</td><td>48.86272</td><td>0.898241</td><td>0.0670398</td><td>--</td><td>48</td><td>0.000936200144</td><td>--</td><td>--</td><td>0.005835094</td><td>0.17347421064139049</td></tr>\n",
       "<tr><td>372975009</td><td>330.801602</td><td>18.87028</td><td>11.5334</td><td>-8.49805</td><td>15.1</td><td>STAR</td><td>2mass</td><td>20180610</td><td>--</td><td>--</td><td>545-143619</td><td>22031238+1852130</td><td>1237680272035348500</td><td>J220312.40+185213.0</td><td>1779546650294354688</td><td>--</td><td>--</td><td>tmgaia</td><td>2.12941</td><td>2.12515</td><td>hsoy</td><td>--</td><td>--</td><td>--</td><td>76.747788</td><td>-28.54153</td><td>340.354428</td><td>28.708806</td><td>18.377</td><td>0.168</td><td>16.283</td><td>0.309</td><td>20.156</td><td>0.0651094</td><td>17.3566</td><td>0.00476957</td><td>16.0749</td><td>0.00398775</td><td>15.4878</td><td>0.00374771</td><td>15.1356</td><td>0.00534862</td><td>14.056</td><td>0.03</td><td>13.347</td><td>0.035</td><td>13.214</td><td>0.037</td><td>AAA-222-111-000-0-0</td><td>13.0</td><td>13.022</td><td>0.025</td><td>13.102</td><td>0.027</td><td>12.361</td><td>0.404</td><td>8.494</td><td>--</td><td>15.8625</td><td>0.00255367</td><td>0.019</td><td>gaiaj</td><td>--</td><td>4228.0</td><td>172.0</td><td>--</td><td>--</td><td>--</td><td>--</td><td>--</td><td>--</td><td>--</td><td>--</td><td>--</td><td>--</td><td>DWARF</td><td>--</td><td>--</td><td>--</td><td>--</td><td>--</td><td>--</td><td>--</td><td>--</td><td>--</td><td>--</td><td>--</td><td>55.474997200722065</td></tr>\n",
       "<tr><td>420814540</td><td>330.792809</td><td>18.900773</td><td>-1.81429</td><td>-3.14773</td><td>17.442</td><td>STAR</td><td>2mass</td><td>20180610</td><td>--</td><td>--</td><td>--</td><td>22031027+1854027</td><td>1237680272035348512</td><td>--</td><td>1779547509288020608</td><td>--</td><td>--</td><td>tmgaia</td><td>2.28658</td><td>2.29069</td><td>hsoy</td><td>--</td><td>--</td><td>--</td><td>76.764385</td><td>-28.513488</td><td>340.359484</td><td>28.740101</td><td>18.443</td><td>0.193</td><td>--</td><td>--</td><td>19.8029</td><td>0.0505438</td><td>18.6118</td><td>0.00819841</td><td>18.0839</td><td>0.00752616</td><td>17.8866</td><td>0.00838898</td><td>17.7048</td><td>0.0220093</td><td>16.744</td><td>0.179</td><td>16.326</td><td>0.284</td><td>15.899</td><td>0.285</td><td>CDD-222-111-ccc-0-0</td><td>28.0</td><td>--</td><td>--</td><td>--</td><td>--</td><td>--</td><td>--</td><td>--</td><td>--</td><td>17.9595</td><td>0.0119399</td><td>0.079</td><td>gaiaj</td><td>--</td><td>4880.0</td><td>179.0</td><td>--</td><td>--</td><td>--</td><td>--</td><td>--</td><td>--</td><td>--</td><td>--</td><td>--</td><td>--</td><td>DWARF</td><td>--</td><td>--</td><td>--</td><td>--</td><td>--</td><td>--</td><td>--</td><td>--</td><td>--</td><td>--</td><td>--</td><td>59.6560326661506</td></tr>\n",
       "<tr><td>372975012</td><td>330.799348</td><td>18.867369</td><td>18.6826</td><td>-2.67202</td><td>16.694</td><td>STAR</td><td>2mass</td><td>20180610</td><td>--</td><td>--</td><td>--</td><td>22031184+1852025</td><td>1237680272035348508</td><td>J220311.85+185202.8</td><td>1779546650294348416</td><td>--</td><td>--</td><td>tmgaia</td><td>2.71913</td><td>2.72841</td><td>hsoy</td><td>--</td><td>--</td><td>--</td><td>76.743756</td><td>-28.54222</td><td>340.350881</td><td>28.706978</td><td>--</td><td>--</td><td>--</td><td>--</td><td>30.0</td><td>50.0</td><td>19.6237</td><td>0.0146998</td><td>18.1859</td><td>0.00799489</td><td>17.0963</td><td>0.0057127</td><td>16.5152</td><td>0.0101429</td><td>15.435</td><td>0.055</td><td>14.626</td><td>0.056</td><td>14.278</td><td>0.081</td><td>AAA-222-111-c00-0-0</td><td>13.0</td><td>14.281</td><td>0.054</td><td>14.32</td><td>0.068</td><td>12.353</td><td>--</td><td>8.947</td><td>--</td><td>17.5982</td><td>0.00889086</td><td>0.028</td><td>gaiaj</td><td>--</td><td>--</td><td>--</td><td>--</td><td>--</td><td>--</td><td>--</td><td>--</td><td>--</td><td>--</td><td>--</td><td>--</td><td>--</td><td>DWARF</td><td>--</td><td>--</td><td>--</td><td>--</td><td>--</td><td>--</td><td>--</td><td>--</td><td>--</td><td>--</td><td>--</td><td>62.883267908729586</td></tr>\n",
       "<tr><td>372974996</td><td>330.810838</td><td>18.893276</td><td>-1.913</td><td>1.91505</td><td>17.225</td><td>STAR</td><td>2mass</td><td>20180610</td><td>--</td><td>--</td><td>--</td><td>22031460+1853357</td><td>1237680272035348511</td><td>J220314.60+185336.1</td><td>1779546856452803456</td><td>--</td><td>--</td><td>tmgaia</td><td>2.25609</td><td>2.26099</td><td>hsoy</td><td>--</td><td>--</td><td>--</td><td>76.772856</td><td>-28.530568</td><td>340.37396</td><td>28.726462</td><td>19.772</td><td>0.123</td><td>--</td><td>--</td><td>22.2619</td><td>0.375424</td><td>19.411</td><td>0.012769</td><td>18.1489</td><td>0.00774171</td><td>17.6807</td><td>0.00743784</td><td>17.386</td><td>0.0175271</td><td>16.133</td><td>0.106</td><td>15.756</td><td>0.153</td><td>15.238</td><td>--</td><td>ACU-220-110-c00-0-0</td><td>30.6</td><td>15.351</td><td>0.036</td><td>15.799</td><td>0.124</td><td>12.51</td><td>--</td><td>9.139</td><td>--</td><td>18.0203</td><td>0.0125587</td><td>0.047</td><td>gaiaj</td><td>--</td><td>4032.0</td><td>170.0</td><td>--</td><td>--</td><td>--</td><td>--</td><td>--</td><td>--</td><td>--</td><td>--</td><td>--</td><td>--</td><td>DWARF</td><td>--</td><td>--</td><td>--</td><td>--</td><td>--</td><td>--</td><td>--</td><td>--</td><td>--</td><td>--</td><td>--</td><td>63.17852638525095</td></tr>\n",
       "<tr><td>420814536</td><td>330.782668</td><td>18.898377</td><td>2.59596</td><td>-11.5119</td><td>14.645</td><td>STAR</td><td>2mass</td><td>20180610</td><td>--</td><td>--</td><td>545-143611</td><td>22030784+1853541</td><td>1237680272035283152</td><td>J220307.83+185353.9</td><td>1779547509287839616</td><td>44767056</td><td>--</td><td>tmgaia</td><td>2.13402</td><td>2.1338</td><td>hsoy</td><td>--</td><td>--</td><td>--</td><td>76.754516</td><td>-28.508736</td><td>340.348354</td><td>28.7417</td><td>15.853</td><td>--</td><td>15.258</td><td>0.126</td><td>16.8294</td><td>0.00837501</td><td>15.5539</td><td>0.00316212</td><td>15.0963</td><td>0.003524</td><td>14.9317</td><td>0.00351899</td><td>14.8591</td><td>0.0048171</td><td>14.106</td><td>0.029</td><td>13.653</td><td>0.04</td><td>13.683</td><td>0.042</td><td>AAA-222-111-000-0-0</td><td>35.6</td><td>13.552</td><td>0.026</td><td>13.618</td><td>0.032</td><td>12.406</td><td>--</td><td>8.552</td><td>--</td><td>15.0436</td><td>0.00157175</td><td>0.02</td><td>gaiaj</td><td>--</td><td>5640.0</td><td>188.0</td><td>--</td><td>--</td><td>--</td><td>--</td><td>--</td><td>--</td><td>--</td><td>--</td><td>--</td><td>--</td><td>DWARF</td><td>--</td><td>--</td><td>--</td><td>--</td><td>--</td><td>--</td><td>--</td><td>--</td><td>--</td><td>--</td><td>--</td><td>65.52476090592101</td></tr>\n",
       "<tr><td>420814527</td><td>330.774816</td><td>18.889402</td><td>-2.77517</td><td>-14.6866</td><td>15.682</td><td>STAR</td><td>2mass</td><td>20180610</td><td>--</td><td>--</td><td>545-143608</td><td>22030595+1853218</td><td>1237680272035283156</td><td>J220305.95+185321.8</td><td>1779547474928281472</td><td>44767025</td><td>--</td><td>tmgaia</td><td>2.17832</td><td>2.1888</td><td>hsoy</td><td>--</td><td>--</td><td>--</td><td>76.741375</td><td>-28.510284</td><td>340.33652</td><td>28.7364</td><td>17.356</td><td>0.085</td><td>16.38</td><td>0.218</td><td>18.47</td><td>0.0200953</td><td>16.9156</td><td>0.00410957</td><td>16.2546</td><td>0.00408557</td><td>16.0121</td><td>0.00409468</td><td>15.8905</td><td>0.00714828</td><td>14.996</td><td>0.056</td><td>14.543</td><td>0.059</td><td>14.428</td><td>0.086</td><td>AAA-222-111-000-0-0</td><td>41.9</td><td>14.332</td><td>0.029</td><td>14.334</td><td>0.044</td><td>12.588</td><td>--</td><td>8.866</td><td>--</td><td>16.1907</td><td>0.00315714</td><td>0.028</td><td>gaiaj</td><td>--</td><td>5184.0</td><td>182.0</td><td>--</td><td>--</td><td>--</td><td>--</td><td>--</td><td>--</td><td>--</td><td>--</td><td>--</td><td>--</td><td>DWARF</td><td>--</td><td>--</td><td>--</td><td>--</td><td>--</td><td>--</td><td>--</td><td>--</td><td>--</td><td>--</td><td>--</td><td>70.77304214800095</td></tr>\n",
       "<tr><td>420814514</td><td>330.788951</td><td>18.863013</td><td>-7.72679</td><td>-16.326</td><td>17.039</td><td>STAR</td><td>2mass</td><td>20180610</td><td>--</td><td>--</td><td>--</td><td>22030934+1851468</td><td>1237680272035283163</td><td>--</td><td>1779540774779084672</td><td>--</td><td>--</td><td>tmgaia</td><td>2.21045</td><td>2.19217</td><td>hsoy</td><td>--</td><td>--</td><td>--</td><td>76.732165</td><td>-28.53874</td><td>340.338613</td><td>28.706873</td><td>20.302</td><td>0.185</td><td>--</td><td>--</td><td>22.5027</td><td>0.453994</td><td>19.8365</td><td>0.0167403</td><td>18.2671</td><td>0.00833047</td><td>17.5229</td><td>0.00697834</td><td>17.0866</td><td>0.0142629</td><td>15.806</td><td>0.082</td><td>15.001</td><td>0.077</td><td>14.813</td><td>0.1</td><td>AAA-222-111-000-0-0</td><td>29.6</td><td>--</td><td>--</td><td>--</td><td>--</td><td>--</td><td>--</td><td>--</td><td>--</td><td>17.9266</td><td>0.011619</td><td>0.038</td><td>gaiaj</td><td>--</td><td>3648.0</td><td>167.0</td><td>--</td><td>--</td><td>--</td><td>--</td><td>--</td><td>--</td><td>--</td><td>--</td><td>--</td><td>--</td><td>DWARF</td><td>--</td><td>--</td><td>--</td><td>--</td><td>--</td><td>--</td><td>--</td><td>--</td><td>--</td><td>--</td><td>--</td><td>79.32233791742141</td></tr>\n",
       "<tr><td>372975015</td><td>330.801432</td><td>18.862127</td><td>-2.57989</td><td>2.73142</td><td>13.323</td><td>STAR</td><td>2mass</td><td>20180610</td><td>--</td><td>--</td><td>545-143618</td><td>22031234+1851436</td><td>1237680272035348494</td><td>J220312.34+185143.6</td><td>1779546650293867776</td><td>44767174</td><td>--</td><td>tmgaia</td><td>2.13664</td><td>2.12713</td><td>hsoy</td><td>--</td><td>--</td><td>--</td><td>76.741354</td><td>-28.547409</td><td>340.350579</td><td>28.701383</td><td>14.749</td><td>0.023</td><td>13.963</td><td>0.137</td><td>15.8469</td><td>0.00568974</td><td>14.341</td><td>0.002974</td><td>14.2342</td><td>0.0107239</td><td>13.6586</td><td>0.00332788</td><td>13.5967</td><td>0.00395829</td><td>12.743</td><td>0.026</td><td>12.383</td><td>0.029</td><td>12.347</td><td>0.026</td><td>AAA-222-111-000-0-0</td><td>20.2</td><td>12.274</td><td>0.024</td><td>12.37</td><td>0.025</td><td>12.386</td><td>--</td><td>8.939</td><td>--</td><td>13.753</td><td>0.000800193</td><td>0.019</td><td>gaiaj</td><td>splin</td><td>5513.0</td><td>186.0</td><td>4.39676</td><td>--</td><td>--</td><td>--</td><td>1.03221</td><td>1.03221</td><td>0.9679852</td><td>0.123649</td><td>0.880175</td><td>0.880175</td><td>DWARF</td><td>0.8867066</td><td>0.8867066</td><td>635.07</td><td>--</td><td>0.0669953</td><td>--</td><td>126</td><td>--</td><td>--</td><td>--</td><td>--</td><td>82.94340161913217</td></tr>\n",
       "<tr><td>372975011</td><td>330.814682</td><td>18.86818</td><td>10.2428</td><td>7.90956</td><td>17.646</td><td>STAR</td><td>2mass</td><td>20180610</td><td>--</td><td>--</td><td>--</td><td>22031552+1852054</td><td>1237680272035348517</td><td>J220315.56+185205.7</td><td>1779546478495660032</td><td>--</td><td>--</td><td>tmgaia</td><td>2.26877</td><td>2.27298</td><td>hsoy</td><td>--</td><td>--</td><td>--</td><td>76.756514</td><td>-28.551471</td><td>340.366437</td><td>28.701978</td><td>20.189</td><td>0.149</td><td>--</td><td>--</td><td>24.6297</td><td>3.19919</td><td>20.1017</td><td>0.0202015</td><td>18.6962</td><td>0.0104803</td><td>18.054</td><td>0.00915228</td><td>17.6978</td><td>0.0221466</td><td>16.446</td><td>0.135</td><td>15.738</td><td>0.154</td><td>15.338</td><td>--</td><td>BBU-220-110-c00-0-0</td><td>18.7</td><td>15.572</td><td>0.043</td><td>15.955</td><td>0.155</td><td>12.448</td><td>--</td><td>9.136</td><td>--</td><td>18.5119</td><td>0.0190531</td><td>0.059</td><td>gaiaj</td><td>--</td><td>3794.0</td><td>168.0</td><td>--</td><td>--</td><td>--</td><td>--</td><td>--</td><td>--</td><td>--</td><td>--</td><td>--</td><td>--</td><td>DWARF</td><td>--</td><td>--</td><td>--</td><td>--</td><td>--</td><td>--</td><td>--</td><td>--</td><td>--</td><td>--</td><td>--</td><td>89.0068831239976</td></tr>\n",
       "<tr><td>372974984</td><td>330.80691</td><td>18.90947</td><td>-12.9495</td><td>-0.618908</td><td>16.676</td><td>STAR</td><td>2mass</td><td>20180610</td><td>--</td><td>--</td><td>--</td><td>22031365+1854340</td><td>1237680272035348507</td><td>J220313.70+185433.8</td><td>1779547612367066240</td><td>--</td><td>--</td><td>tmgaia</td><td>2.18241</td><td>2.18947</td><td>hsoy</td><td>--</td><td>--</td><td>--</td><td>76.782254</td><td>-28.51615</td><td>340.377382</td><td>28.742804</td><td>19.177</td><td>0.097</td><td>--</td><td>--</td><td>21.976</td><td>0.293689</td><td>19.1818</td><td>0.0113534</td><td>17.7819</td><td>0.00659934</td><td>17.1166</td><td>0.00588061</td><td>16.6912</td><td>0.0113177</td><td>15.509</td><td>0.076</td><td>15.014</td><td>0.087</td><td>14.612</td><td>0.108</td><td>AAA-222-111-000-0-0</td><td>41.0</td><td>14.19</td><td>0.027</td><td>14.18</td><td>0.043</td><td>12.512</td><td>--</td><td>9.005</td><td>--</td><td>17.5209</td><td>0.00835862</td><td>0.035</td><td>gaiaj</td><td>--</td><td>4020.0</td><td>170.0</td><td>--</td><td>--</td><td>--</td><td>--</td><td>--</td><td>--</td><td>--</td><td>--</td><td>--</td><td>--</td><td>DWARF</td><td>--</td><td>--</td><td>--</td><td>--</td><td>--</td><td>--</td><td>--</td><td>--</td><td>--</td><td>--</td><td>--</td><td>99.372926967848</td></tr>\n",
       "<tr><td>420814510</td><td>330.781065</td><td>18.859539</td><td>-10.8</td><td>-9.8</td><td>10.692</td><td>STAR</td><td>2mass</td><td>20180610</td><td>--</td><td>1688-01903-1</td><td>545-143610</td><td>22030745+1851343</td><td>1237680272035283149</td><td>J220307.44+185134.1</td><td>1779540774778606976</td><td>44767053</td><td>--</td><td>tmgaia</td><td>1.6</td><td>1.7</td><td>tycho2</td><td>--</td><td>--</td><td>--</td><td>76.723243</td><td>-28.536226</td><td>340.329233</td><td>28.706636</td><td>11.634</td><td>0.223</td><td>11.301</td><td>0.016</td><td>14.3481</td><td>0.00622708</td><td>13.5767</td><td>0.00769571</td><td>8.24238</td><td>7.98801e-05</td><td>13.0644</td><td>0.00912818</td><td>13.0657</td><td>0.0149484</td><td>10.222</td><td>0.026</td><td>9.991</td><td>0.032</td><td>9.912</td><td>0.018</td><td>AAA-222-111-000-0-0</td><td>19.7</td><td>9.905</td><td>0.024</td><td>9.931</td><td>0.021</td><td>9.873</td><td>0.05</td><td>8.713</td><td>0.441</td><td>11.0376</td><td>0.000345996</td><td>0.019</td><td>gaiaj</td><td>splin</td><td>6186.0</td><td>194.0</td><td>4.272</td><td>2.00583</td><td>--</td><td>--</td><td>1.31785</td><td>1.31785</td><td>1.1838783</td><td>0.180922</td><td>0.517258</td><td>1.55177</td><td>DWARF</td><td>2.29122519</td><td>2.29122519</td><td>299.881</td><td>--</td><td>0.0674319</td><td>--</td><td>46</td><td>0.212469682</td><td>--</td><td>--</td><td>0.000856998959</td><td>100.87161447817448</td></tr>\n",
       "</table>"
      ],
      "text/plain": [
       "<Table masked=True length=12>\n",
       "    ID        ra        dec    ...    priority         dstArcSec     \n",
       "  str11    float64    float64  ...    float64           float64      \n",
       "--------- ---------- --------- ... -------------- -------------------\n",
       "420814525 330.794908 18.884363 ...    0.005835094 0.17347421064139049\n",
       "372975009 330.801602  18.87028 ...             --  55.474997200722065\n",
       "420814540 330.792809 18.900773 ...             --    59.6560326661506\n",
       "372975012 330.799348 18.867369 ...             --  62.883267908729586\n",
       "372974996 330.810838 18.893276 ...             --   63.17852638525095\n",
       "420814536 330.782668 18.898377 ...             --   65.52476090592101\n",
       "420814527 330.774816 18.889402 ...             --   70.77304214800095\n",
       "420814514 330.788951 18.863013 ...             --   79.32233791742141\n",
       "372975015 330.801432 18.862127 ...             --   82.94340161913217\n",
       "372975011 330.814682  18.86818 ...             --    89.0068831239976\n",
       "372974984  330.80691  18.90947 ...             --     99.372926967848\n",
       "420814510 330.781065 18.859539 ... 0.000856998959  100.87161447817448"
      ]
     },
     "execution_count": 3,
     "metadata": {},
     "output_type": "execute_result"
    }
   ],
   "source": [
    "dwarfs=catalogTIC['lumclass']=='DWARF'\n",
    "print(\"Number of Dwarf stars within %f deg of %s: %u\" % (radius_deg, star_name,len(catalogTIC[dwarfs])))\n",
    "catalogTIC_dwarf=catalogTIC[dwarfs]\n",
    "catalogTIC_dwarf[:12]"
   ]
  },
  {
   "cell_type": "markdown",
   "metadata": {},
   "source": [
    "# Get Closest TIC ID\n",
    "Retrieve the star in the TESS Input Catalog that is closest to the requested position. The table produced by the astroquery request is sorted by the column \"dstArcSec\".  This column gives the distance in arc seconds from the requested position and is added by the MAST at the time of the request. "
   ]
  },
  {
   "cell_type": "code",
   "execution_count": 4,
   "metadata": {},
   "outputs": [
    {
     "name": "stdout",
     "output_type": "stream",
     "text": [
      "TIC ID of HD 209458: 420814525\n",
      "RA and Dec: 330.794908 18.884363\n"
     ]
    }
   ],
   "source": [
    "ticID = catalogTIC[0]['ID']\n",
    "pos=\"%f %f\" % (catalogTIC[0][\"ra\"],catalogTIC[0][\"dec\"])\n",
    "\n",
    "print(\"TIC ID of %s: %s\"% (star_name,ticID))\n",
    "print(\"RA and Dec: %s\" % pos)"
   ]
  },
  {
   "cell_type": "code",
   "execution_count": null,
   "metadata": {},
   "outputs": [],
   "source": []
  }
 ],
 "metadata": {
  "kernelspec": {
   "display_name": "Python 3",
   "language": "python",
   "name": "python3"
  },
  "language_info": {
   "codemirror_mode": {
    "name": "ipython",
    "version": 3
   },
   "file_extension": ".py",
   "mimetype": "text/x-python",
   "name": "python",
   "nbconvert_exporter": "python",
   "pygments_lexer": "ipython3",
   "version": "3.6.6"
  }
 },
 "nbformat": 4,
 "nbformat_minor": 2
}
